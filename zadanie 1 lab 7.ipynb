{
 "cells": [
  {
   "cell_type": "code",
   "execution_count": null,
   "id": "6483aaa1",
   "metadata": {},
   "outputs": [],
   "source": [
    "#zadanie 1\n",
    "from pyspark.sql import SparkSession\n",
    "from pyspark.sql.functions import expr\n",
    "batch_counter = {\"count\": 0}\n",
    " \n",
    "def process_batch(df, batch_id):\n",
    "    batch_counter[\"count\"] += 1\n",
    "    print(f\"Batch ID: {batch_id}\")\n",
    "    df.show(truncate=False)\n",
    "    if batch_counter[\"count\"] % 5 == 0:\n",
    "        spark.stop()\n",
    " \n",
    "spark = SparkSession.builder.appName(\"StreamingDemo\").getOrCreate()\n",
    "spark.sparkContext.setLogLevel(\"WARN\")\n",
    " \n",
    "rate_df = (spark.readStream\n",
    "      .format(\"rate\")\n",
    "      .option(\"rowsPerSecond\", 5)\n",
    "      .load())\n",
    "events = (rate_df.withColumn(\"user_id\", expr(\"concat('u', cast(rand() * 100 as int))\"))\n",
    "            .withColumn(\"event_type\", expr(\"case when rand() > 0.7 then 'purchase' else 'view' end\")) ) \n",
    "query = (events.writeStream\n",
    "         .format(\"console\")\n",
    "         .foreachBatch(process_batch)\n",
    "         .start())"
   ]
  }
 ],
 "metadata": {
  "language_info": {
   "name": "python"
  }
 },
 "nbformat": 4,
 "nbformat_minor": 5
}
