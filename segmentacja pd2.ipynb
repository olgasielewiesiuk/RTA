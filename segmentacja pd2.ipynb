{
 "cells": [
  {
   "cell_type": "code",
   "execution_count": null,
   "id": "423592ee",
   "metadata": {},
   "outputs": [],
   "source": [
    "from pyspark.sql import SparkSession\n",
    "from pyspark.sql.functions import *\n",
    "from pyspark.sql.types import *\n",
    "\n",
    "def process_batch(df, batch_id):\n",
    "    print(f\"Batch ID: {batch_id}\")\n",
    "    df.show(truncate=False)\n",
    "\n",
    "spark = SparkSession.builder.appName(\"CustomerSegmentation\").getOrCreate()\n",
    "spark.sparkContext.setLogLevel(\"ERROR\")\n",
    "\n",
    "schema = StructType([\n",
    "    StructField(\"user_id\", StringType()),\n",
    "    StructField(\"event_type\", StringType()),\n",
    "    StructField(\"timestamp\", TimestampType()),\n",
    "    StructField(\"product_id\", StringType()),\n",
    "    StructField(\"category\", StringType()),\n",
    "    StructField(\"price\", DoubleType())\n",
    "])\n",
    "stream = (spark.readStream\n",
    "          .schema(schema)\n",
    "          .json(\"data/stream\"))\n",
    "\n",
    "aggregated = (stream.withWatermark(\"timestamp\", \"1 minute\")\n",
    "              .groupBy(window(\"timestamp\", \"5 minutes\"), col(\"user_id\"))\n",
    "              .agg(collect_set(\"event_type\").alias(\"event_types\"))\n",
    ")\n",
    "\n",
    "segmented = aggregated.withColumn(\n",
    "    \"segment\",\n",
    "    expr(\"\"\"\n",
    "        CASE \n",
    "            WHEN array_contains(event_types, 'purchase') THEN 'Buyer'\n",
    "            WHEN array_contains(event_types, 'cart') THEN 'Cart abandoner'\n",
    "            WHEN array_contains(event_types, 'view') THEN 'Lurker'\n",
    "            ELSE 'Unknown'\n",
    "        END\n",
    "    \"\"\")\n",
    ")\n",
    "\n",
    "query = (segmented.writeStream\n",
    "         .outputMode(\"complete\")\n",
    "         .format(\"console\")\n",
    "         .foreachBatch(process_batch)\n",
    "         .start())\n",
    "\n"
   ]
  }
 ],
 "metadata": {
  "language_info": {
   "name": "python"
  }
 },
 "nbformat": 4,
 "nbformat_minor": 5
}
