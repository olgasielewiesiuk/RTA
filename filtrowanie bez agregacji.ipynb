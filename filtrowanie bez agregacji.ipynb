{
 "cells": [
  {
   "cell_type": "code",
   "execution_count": null,
   "id": "44209fe5",
   "metadata": {},
   "outputs": [],
   "source": [
    "#fitrowanie danych bez agregacji\n",
    "from pyspark.sql import SparkSession\n",
    "from pyspark.sql.functions import *\n",
    "batch_counter = {\"count\": 0}\n",
    " \n",
    "def process_batch(df, batch_id):\n",
    "    batch_counter[\"count\"] += 1\n",
    "    print(f\"Batch ID: {batch_id}\")\n",
    "    df.show(truncate=False)\n",
    "    if batch_counter[\"count\"] % 5 == 0:\n",
    "        spark.stop()\n",
    " \n",
    "spark = SparkSession.builder.appName(\"StreamingDemo\").getOrCreate()\n",
    "spark.sparkContext.setLogLevel(\"WARN\")\n",
    " \n",
    "rate_df = (spark.readStream\n",
    "      .format(\"rate\")\n",
    "      .option(\"rowsPerSecond\", 5)\n",
    "      .load())\n",
    "events = (rate_df.withColumn(\"user_id\", expr(\"concat('u', cast(rand() * 100 as int))\"))\n",
    "            .withColumn(\"event_type\", expr(\"case when rand() > 0.7 then 'purchase' else 'view' end\")) )\n",
    "purchases = events.filter(col(\"event_type\") == \"purchase\") \\\n",
    "                 .withColumn(\"info\", expr(\"concat('purchase by: ', user_id)\"))\n",
    "query = (purchases.writeStream\n",
    "         .format(\"console\")\n",
    "         .outputMode(\"append\")\n",
    "         .foreachBatch(process_batch)\n",
    "         .start())"
   ]
  }
 ],
 "metadata": {
  "language_info": {
   "name": "python"
  }
 },
 "nbformat": 4,
 "nbformat_minor": 5
}
