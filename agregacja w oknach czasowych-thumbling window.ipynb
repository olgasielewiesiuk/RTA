{
 "cells": [
  {
   "cell_type": "code",
   "execution_count": null,
   "id": "0953984e",
   "metadata": {},
   "outputs": [],
   "source": [
    "#agregacja w oknach czasowych\n",
    "from pyspark.sql import SparkSession\n",
    "from pyspark.sql.functions import *\n",
    "from pyspark.sql.types import *\n",
    "\n",
    "def process_batch(df, batch_id):\n",
    "    print(f\"Batch ID: {batch_id}\")\n",
    "    df.show(truncate=False)\n",
    "\n",
    "spark = SparkSession.builder.appName(\"RealTimeEcommerce\").getOrCreate()\n",
    "spark.sparkContext.setLogLevel(\"ERROR\")\n",
    "\n",
    "schema = StructType([\n",
    "    StructField(\"user_id\", StringType()),\n",
    "    StructField(\"event_type\", StringType()),\n",
    "    StructField(\"timestamp\", TimestampType()),\n",
    "    StructField(\"product_id\", StringType()),\n",
    "    StructField(\"category\", StringType()),\n",
    "    StructField(\"price\", DoubleType())\n",
    "]) \n",
    "stream = (spark.readStream\n",
    "          .schema(schema)\n",
    "          .json(\"data/stream\"))\n",
    "#thumbling window\n",
    "windowed = (stream.withWatermark(\"timestamp\", \"1 minute\")\n",
    "           .groupBy(window(\"timestamp\", \"5 minutes\"), \"event_type\")\n",
    "           .count()\n",
    ")\n",
    " \n",
    "# pamietaj, że agregacje wymagają opcji complete\n",
    "query = (windowed\n",
    "         .writeStream\n",
    "         .outputMode(\"update\")\n",
    "         .format(\"console\")\n",
    "         .foreachBatch(process_batch)\n",
    "         .start()\n",
    "        )\n"
   ]
  }
 ],
 "metadata": {
  "language_info": {
   "name": "python"
  }
 },
 "nbformat": 4,
 "nbformat_minor": 5
}
